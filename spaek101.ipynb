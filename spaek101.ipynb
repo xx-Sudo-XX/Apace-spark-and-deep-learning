{
    "cells": [
        {
            "cell_type": "code",
            "execution_count": 57,
            "metadata": {},
            "outputs": [],
            "source": "rdd = sc.parallelize([1,2,4,5,34,1,32,4,34,2,1,3])"
        },
        {
            "cell_type": "code",
            "execution_count": 122,
            "metadata": {},
            "outputs": [
                {
                    "name": "stdout",
                    "output_type": "stream",
                    "text": "10.25\n13.392317449443418\n"
                }
            ],
            "source": "sum = rdd.sum()\nn = rdd.count()\nmean = sum/n\nprint(mean)\n\nfrom math import sqrt\nn = float(n)\nsd = sqrt(rdd.map(lambda x : pow(x-mean,2)).sum()/n)\nprint(sd)"
        },
        {
            "cell_type": "markdown",
            "metadata": {},
            "source": "median = 3.5"
        },
        {
            "cell_type": "code",
            "execution_count": 119,
            "metadata": {},
            "outputs": [
                {
                    "name": "stdout",
                    "output_type": "stream",
                    "text": "3.5\n"
                }
            ],
            "source": "sortedAndIndexed = rdd.sortBy(lambda x: x).zipWithIndex().map(lambda value_key: (value_key[1], value_key[0]))\nn = sortedAndIndexed.count()\nif (n % 2 == 1):\n    index = (n-1)/2\n    print(sortedAndIndexed.lookup(index))\nelse:\n    index1 = (n/2)-1\n    index2 = (n/2)\n    value1 = (sortedAndIndexed.lookup(index1))[0]\n    value2 = (sortedAndIndexed.lookup(index2))[0]\n    print((value1+value2)/2)"
        },
        {
            "cell_type": "code",
            "execution_count": 121,
            "metadata": {},
            "outputs": [
                {
                    "name": "stdout",
                    "output_type": "stream",
                    "text": "13.392317449443418\n"
                }
            ],
            "source": "from math import sqrt\nn = float(n)\nsd = sqrt(rdd.map(lambda x : pow(x-mean,2)).sum()/n)\nprint(sd)"
        },
        {
            "cell_type": "code",
            "execution_count": 123,
            "metadata": {},
            "outputs": [
                {
                    "data": {
                        "text/plain": "2.303467493706194"
                    },
                    "execution_count": 123,
                    "metadata": {},
                    "output_type": "execute_result"
                }
            ],
            "source": "sd = 10.562196741208714\nskewness = 1/n*rdd.map(lambda x : pow(x-mean, 3)/pow(sd, 3)).sum()\nskewness"
        },
        {
            "cell_type": "code",
            "execution_count": 124,
            "metadata": {},
            "outputs": [
                {
                    "data": {
                        "text/plain": "72.14765139598842"
                    },
                    "execution_count": 124,
                    "metadata": {},
                    "output_type": "execute_result"
                }
            ],
            "source": "sd = 10.562196741208714\nkurtosis = rdd.map(lambda x : pow(x-mean, 4)/pow(sd, 4)).sum()\nkurtosis"
        },
        {
            "cell_type": "markdown",
            "metadata": {},
            "source": "1,2,3,4,5,6,7,8,9,10\n\n7,6,5,4,5,6,7,8,9,10"
        },
        {
            "cell_type": "code",
            "execution_count": 3,
            "metadata": {},
            "outputs": [],
            "source": "rddX = sc.parallelize([1,2,3,4,5,6,7,8,9,10])\nrddY = sc.parallelize([7,6,5,4,5,6,7,8,9,10])"
        },
        {
            "cell_type": "code",
            "execution_count": 4,
            "metadata": {
                "scrolled": true
            },
            "outputs": [
                {
                    "name": "stdout",
                    "output_type": "stream",
                    "text": "5.5\n6.7\n"
                }
            ],
            "source": "meanX = rddX.sum()/rddX.count()\nmeanY = rddY.sum()/rddY.count()\nprint(meanX)\nprint(meanY)"
        },
        {
            "cell_type": "code",
            "execution_count": 126,
            "metadata": {},
            "outputs": [
                {
                    "name": "stdout",
                    "output_type": "stream",
                    "text": "10\n"
                }
            ],
            "source": "rddXY = rddX.zip(rddY)\nn = rddXY.count()\nprint(n)"
        },
        {
            "cell_type": "code",
            "execution_count": 6,
            "metadata": {},
            "outputs": [
                {
                    "data": {
                        "text/plain": "3.65"
                    },
                    "execution_count": 6,
                    "metadata": {},
                    "output_type": "execute_result"
                }
            ],
            "source": "value = 0.0;\nfor val in list(rddXY.collect()):\n    value += (val[0] - meanX) * (val[1] - meanY)\n\nvalue / rddXY.count()"
        },
        {
            "cell_type": "code",
            "execution_count": null,
            "metadata": {},
            "outputs": [],
            "source": ""
        },
        {
            "cell_type": "code",
            "execution_count": 132,
            "metadata": {},
            "outputs": [
                {
                    "name": "stdout",
                    "output_type": "stream",
                    "text": "8.25\n3.2099999999999995\n0.13782686679882944\n"
                }
            ],
            "source": "from math import sqrt\nn = rddXY.count()\nsdX = rddX.map(lambda x : pow(x-meanX, 2)).sum()/n\nsdY = rddY.map(lambda x : pow(x-meanY, 2)).sum()/n\nprint(sdX)\nprint(sdY)\n\ncorrXY = 3.65/ (sdX * sdY)\nprint(corrXY)"
        },
        {
            "cell_type": "code",
            "execution_count": 112,
            "metadata": {},
            "outputs": [],
            "source": "import statistics as stats\nfrom math import sqrt\nfrom scipy.stats import norm, kurtosis, skew"
        },
        {
            "cell_type": "code",
            "execution_count": null,
            "metadata": {},
            "outputs": [],
            "source": "a =[7,6,5,4,5,6,7,8,9,10]\na.sort()\nprint(a)\nmedian = stats.median(a)\nprint(median)\nmean = stats.mean(a)\nprint(mean)\nsd = stats.pstdev([7,6,5,4,5,6,7,8,9,10])\nprint(sd)\nskew([7,6,5,4,5,6,7,8,9,10])\nkrut = norm.rvs(a)\nprint(krut)"
        },
        {
            "cell_type": "code",
            "execution_count": null,
            "metadata": {},
            "outputs": [],
            "source": ""
        }
    ],
    "metadata": {
        "kernelspec": {
            "display_name": "Python 3.6 with Spark",
            "language": "python3",
            "name": "python36"
        },
        "language_info": {
            "codemirror_mode": {
                "name": "ipython",
                "version": 3
            },
            "file_extension": ".py",
            "mimetype": "text/x-python",
            "name": "python",
            "nbconvert_exporter": "python",
            "pygments_lexer": "ipython3",
            "version": "3.6.8"
        }
    },
    "nbformat": 4,
    "nbformat_minor": 1
}